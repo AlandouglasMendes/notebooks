{
  "nbformat": 4,
  "nbformat_minor": 0,
  "metadata": {
    "colab": {
      "name": "Mpg in 1970's cars",
      "version": "0.3.2",
      "provenance": [],
      "include_colab_link": true
    },
    "kernelspec": {
      "name": "python3",
      "display_name": "Python 3"
    }
  },
  "cells": [
    {
      "cell_type": "markdown",
      "metadata": {
        "id": "view-in-github",
        "colab_type": "text"
      },
      "source": [
        "<a href=\"https://colab.research.google.com/github/AlandouglasMendes/notebooks/blob/master/Mpg%20in%201970's%20cars.ipynb\" target=\"_parent\"><img src=\"https://colab.research.google.com/assets/colab-badge.svg\" alt=\"Open In Colab\"/></a>"
      ]
    },
    {
      "cell_type": "code",
      "metadata": {
        "id": "zjJXNZPgbyWG",
        "colab_type": "code",
        "colab": {}
      },
      "source": [
        ""
      ],
      "execution_count": 0,
      "outputs": []
    },
    {
      "cell_type": "markdown",
      "metadata": {
        "id": "0gF41bm97c0F",
        "colab_type": "text"
      },
      "source": [
        "# This is  a notebook showing the solution for a regression problem.\n",
        "## We will use Keras to predict the \"miles per gallon\" and the \"km/L\" of some model cars from the 1970's, using physical data from the cars, like size and mass."
      ]
    },
    {
      "cell_type": "markdown",
      "metadata": {
        "id": "11Dd-l19b-16",
        "colab_type": "text"
      },
      "source": [
        "Thi is a notebook in  wich will run a neural network to solve a regression problem, using [keras](https://keras.io/)/[tensorflow](https://www.tensorflow.org/). It's an exercise in the tensorflow course offered by [udacity](https://www.udacity.com). \n",
        "The first step is installing [seaborn](https://seaborn.pydata.org/) in the notebook, using [pip](https://pypi.org/project/pip/) (we have to use ```!pip``` instead of  ```pip``` )."
      ]
    },
    {
      "cell_type": "markdown",
      "metadata": {
        "id": "cfPgQ7bnaBe8",
        "colab_type": "text"
      },
      "source": [
        "#System preparation\n",
        "Some installs to run and build our model."
      ]
    },
    {
      "cell_type": "code",
      "metadata": {
        "id": "qbYpbmb5cojE",
        "colab_type": "code",
        "outputId": "9f34b68d-1a6c-449b-df99-8ea7a3c35221",
        "colab": {
          "base_uri": "https://localhost:8080/",
          "height": 241
        }
      },
      "source": [
        "!pip install seaborn"
      ],
      "execution_count": 0,
      "outputs": [
        {
          "output_type": "stream",
          "text": [
            "Requirement already satisfied: seaborn in /usr/local/lib/python3.6/dist-packages (0.9.0)\n",
            "Requirement already satisfied: numpy>=1.9.3 in /usr/local/lib/python3.6/dist-packages (from seaborn) (1.16.4)\n",
            "Requirement already satisfied: pandas>=0.15.2 in /usr/local/lib/python3.6/dist-packages (from seaborn) (0.24.2)\n",
            "Requirement already satisfied: scipy>=0.14.0 in /usr/local/lib/python3.6/dist-packages (from seaborn) (1.3.0)\n",
            "Requirement already satisfied: matplotlib>=1.4.3 in /usr/local/lib/python3.6/dist-packages (from seaborn) (3.0.3)\n",
            "Requirement already satisfied: pytz>=2011k in /usr/local/lib/python3.6/dist-packages (from pandas>=0.15.2->seaborn) (2018.9)\n",
            "Requirement already satisfied: python-dateutil>=2.5.0 in /usr/local/lib/python3.6/dist-packages (from pandas>=0.15.2->seaborn) (2.5.3)\n",
            "Requirement already satisfied: pyparsing!=2.0.4,!=2.1.2,!=2.1.6,>=2.0.1 in /usr/local/lib/python3.6/dist-packages (from matplotlib>=1.4.3->seaborn) (2.4.0)\n",
            "Requirement already satisfied: cycler>=0.10 in /usr/local/lib/python3.6/dist-packages (from matplotlib>=1.4.3->seaborn) (0.10.0)\n",
            "Requirement already satisfied: kiwisolver>=1.0.1 in /usr/local/lib/python3.6/dist-packages (from matplotlib>=1.4.3->seaborn) (1.1.0)\n",
            "Requirement already satisfied: six>=1.5 in /usr/local/lib/python3.6/dist-packages (from python-dateutil>=2.5.0->pandas>=0.15.2->seaborn) (1.12.0)\n",
            "Requirement already satisfied: setuptools in /usr/local/lib/python3.6/dist-packages (from kiwisolver>=1.0.1->matplotlib>=1.4.3->seaborn) (41.0.1)\n"
          ],
          "name": "stdout"
        }
      ]
    },
    {
      "cell_type": "markdown",
      "metadata": {
        "id": "tNSoMIJsDgT_",
        "colab_type": "text"
      },
      "source": [
        "Now we have to make some imports to use tools for data manipulation and plotting results"
      ]
    },
    {
      "cell_type": "code",
      "metadata": {
        "id": "ibEqXOetdShl",
        "colab_type": "code",
        "outputId": "59cc0089-a196-4811-9a2b-0bf23a49a748",
        "colab": {
          "base_uri": "https://localhost:8080/",
          "height": 34
        }
      },
      "source": [
        "from __future__ import absolute_import, division, print_function\n",
        "\n",
        "import pathlib\n",
        "\n",
        "import pandas as pd\n",
        "import seaborn as sns\n",
        "\n",
        "import tensorflow as tf\n",
        "from tensorflow import keras\n",
        "from tensorflow.keras import layers\n",
        "\n",
        "print(tf.__version__)"
      ],
      "execution_count": 0,
      "outputs": [
        {
          "output_type": "stream",
          "text": [
            "1.14.0-rc1\n"
          ],
          "name": "stdout"
        }
      ]
    },
    {
      "cell_type": "markdown",
      "metadata": {
        "id": "pB_TzMGqaLVS",
        "colab_type": "text"
      },
      "source": [
        "#Data obtaining and filtering\n",
        "\n",
        "Getting data and verifying it."
      ]
    },
    {
      "cell_type": "markdown",
      "metadata": {
        "id": "EZ2sogfM_zJC",
        "colab_type": "text"
      },
      "source": [
        "Now we have to download the dataset. Is available at [UCI Machine learning repository](https://archive.ics.uci.edu/ml/datasets/auto+mpg)"
      ]
    },
    {
      "cell_type": "code",
      "metadata": {
        "id": "-RK0963TAesH",
        "colab_type": "code",
        "outputId": "3b8d7209-7649-4abd-cb03-7132e6a15176",
        "colab": {
          "base_uri": "https://localhost:8080/",
          "height": 34
        }
      },
      "source": [
        "dataset_path = keras.utils.get_file('auto-mpg.data', 'https://archive.ics.uci.edu/ml/machine-learning-databases/auto-mpg/auto-mpg.data')\n",
        "dataset_path\n"
      ],
      "execution_count": 0,
      "outputs": [
        {
          "output_type": "execute_result",
          "data": {
            "text/plain": [
              "'/root/.keras/datasets/auto-mpg.data'"
            ]
          },
          "metadata": {
            "tags": []
          },
          "execution_count": 23
        }
      ]
    },
    {
      "cell_type": "markdown",
      "metadata": {
        "id": "qgYAnWrpCozO",
        "colab_type": "text"
      },
      "source": [
        "Now, to import the data we wish using [Pandas](https://pandas.pydata.org/)."
      ]
    },
    {
      "cell_type": "code",
      "metadata": {
        "id": "HVNQ5lrWE4iN",
        "colab_type": "code",
        "outputId": "05df59d1-2c54-49f8-8cb0-fcb6c564784e",
        "colab": {
          "base_uri": "https://localhost:8080/",
          "height": 204
        }
      },
      "source": [
        "column_names = ['MPG', 'Cilinders','Displacement','Horse power','Weight','Acceleration','Model year','Origin']\n",
        "raw_dataset = pd.read_csv(dataset_path, names=column_names, na_values=\"?\", comment='\\t', sep=' ', skipinitialspace=True)\n",
        "dataset = raw_dataset.copy()\n",
        "dataset.tail()"
      ],
      "execution_count": 0,
      "outputs": [
        {
          "output_type": "execute_result",
          "data": {
            "text/html": [
              "<div>\n",
              "<style scoped>\n",
              "    .dataframe tbody tr th:only-of-type {\n",
              "        vertical-align: middle;\n",
              "    }\n",
              "\n",
              "    .dataframe tbody tr th {\n",
              "        vertical-align: top;\n",
              "    }\n",
              "\n",
              "    .dataframe thead th {\n",
              "        text-align: right;\n",
              "    }\n",
              "</style>\n",
              "<table border=\"1\" class=\"dataframe\">\n",
              "  <thead>\n",
              "    <tr style=\"text-align: right;\">\n",
              "      <th></th>\n",
              "      <th>MPG</th>\n",
              "      <th>Cilinders</th>\n",
              "      <th>Displacement</th>\n",
              "      <th>Horse power</th>\n",
              "      <th>Weight</th>\n",
              "      <th>Acceleration</th>\n",
              "      <th>Model year</th>\n",
              "      <th>Origin</th>\n",
              "    </tr>\n",
              "  </thead>\n",
              "  <tbody>\n",
              "    <tr>\n",
              "      <th>393</th>\n",
              "      <td>27.0</td>\n",
              "      <td>4</td>\n",
              "      <td>140.0</td>\n",
              "      <td>86.0</td>\n",
              "      <td>2790.0</td>\n",
              "      <td>15.6</td>\n",
              "      <td>82</td>\n",
              "      <td>1</td>\n",
              "    </tr>\n",
              "    <tr>\n",
              "      <th>394</th>\n",
              "      <td>44.0</td>\n",
              "      <td>4</td>\n",
              "      <td>97.0</td>\n",
              "      <td>52.0</td>\n",
              "      <td>2130.0</td>\n",
              "      <td>24.6</td>\n",
              "      <td>82</td>\n",
              "      <td>2</td>\n",
              "    </tr>\n",
              "    <tr>\n",
              "      <th>395</th>\n",
              "      <td>32.0</td>\n",
              "      <td>4</td>\n",
              "      <td>135.0</td>\n",
              "      <td>84.0</td>\n",
              "      <td>2295.0</td>\n",
              "      <td>11.6</td>\n",
              "      <td>82</td>\n",
              "      <td>1</td>\n",
              "    </tr>\n",
              "    <tr>\n",
              "      <th>396</th>\n",
              "      <td>28.0</td>\n",
              "      <td>4</td>\n",
              "      <td>120.0</td>\n",
              "      <td>79.0</td>\n",
              "      <td>2625.0</td>\n",
              "      <td>18.6</td>\n",
              "      <td>82</td>\n",
              "      <td>1</td>\n",
              "    </tr>\n",
              "    <tr>\n",
              "      <th>397</th>\n",
              "      <td>31.0</td>\n",
              "      <td>4</td>\n",
              "      <td>119.0</td>\n",
              "      <td>82.0</td>\n",
              "      <td>2720.0</td>\n",
              "      <td>19.4</td>\n",
              "      <td>82</td>\n",
              "      <td>1</td>\n",
              "    </tr>\n",
              "  </tbody>\n",
              "</table>\n",
              "</div>"
            ],
            "text/plain": [
              "      MPG  Cilinders  Displacement  ...  Acceleration  Model year  Origin\n",
              "393  27.0          4         140.0  ...          15.6          82       1\n",
              "394  44.0          4          97.0  ...          24.6          82       2\n",
              "395  32.0          4         135.0  ...          11.6          82       1\n",
              "396  28.0          4         120.0  ...          18.6          82       1\n",
              "397  31.0          4         119.0  ...          19.4          82       1\n",
              "\n",
              "[5 rows x 8 columns]"
            ]
          },
          "metadata": {
            "tags": []
          },
          "execution_count": 24
        }
      ]
    },
    {
      "cell_type": "markdown",
      "metadata": {
        "id": "ynw8xBPLGG0G",
        "colab_type": "text"
      },
      "source": [
        "Data does not always comes as we wish(it almost never does, actually), so we will manipulate them to make\n",
        "some cleaning.\n",
        "We will look for unknown values:"
      ]
    },
    {
      "cell_type": "code",
      "metadata": {
        "id": "1abwlLzCGXoQ",
        "colab_type": "code",
        "outputId": "d414597d-0c74-4809-c537-2dc84c94e403",
        "colab": {
          "base_uri": "https://localhost:8080/",
          "height": 170
        }
      },
      "source": [
        "dataset.isna().sum()"
      ],
      "execution_count": 0,
      "outputs": [
        {
          "output_type": "execute_result",
          "data": {
            "text/plain": [
              "MPG             0\n",
              "Cilinders       0\n",
              "Displacement    0\n",
              "Horse power     6\n",
              "Weight          0\n",
              "Acceleration    0\n",
              "Model year      0\n",
              "Origin          0\n",
              "dtype: int64"
            ]
          },
          "metadata": {
            "tags": []
          },
          "execution_count": 25
        }
      ]
    },
    {
      "cell_type": "markdown",
      "metadata": {
        "id": "13G8djUiGplE",
        "colab_type": "text"
      },
      "source": [
        "And we will cut this ones out, there are only 6 of them."
      ]
    },
    {
      "cell_type": "code",
      "metadata": {
        "id": "IMz4inRhHldG",
        "colab_type": "code",
        "colab": {}
      },
      "source": [
        "dataset = dataset.dropna()\n"
      ],
      "execution_count": 0,
      "outputs": []
    },
    {
      "cell_type": "markdown",
      "metadata": {
        "id": "VxxeSc16acMy",
        "colab_type": "text"
      },
      "source": [
        "#Data manipulation\n",
        "Some transformations in order to make data fit our tools of analysis"
      ]
    },
    {
      "cell_type": "markdown",
      "metadata": {
        "id": "wENsWw-YI0CL",
        "colab_type": "text"
      },
      "source": [
        "And we have the column origin, wich is a categorical one. No problem, we turn it into a one-hot:"
      ]
    },
    {
      "cell_type": "code",
      "metadata": {
        "id": "pOtI01m6I8D_",
        "colab_type": "code",
        "outputId": "02ea8c4f-1496-4791-b5b6-5e96296d9af9",
        "colab": {
          "base_uri": "https://localhost:8080/",
          "height": 204
        }
      },
      "source": [
        "origin = dataset.pop('Origin')\n",
        "\n",
        "dataset['USA'] = (origin==1)*1.0\n",
        "dataset['Europe'] = (origin==2)*1.0\n",
        "dataset['Japan'] = (origin==3)*1.0\n",
        "dataset.tail()"
      ],
      "execution_count": 0,
      "outputs": [
        {
          "output_type": "execute_result",
          "data": {
            "text/html": [
              "<div>\n",
              "<style scoped>\n",
              "    .dataframe tbody tr th:only-of-type {\n",
              "        vertical-align: middle;\n",
              "    }\n",
              "\n",
              "    .dataframe tbody tr th {\n",
              "        vertical-align: top;\n",
              "    }\n",
              "\n",
              "    .dataframe thead th {\n",
              "        text-align: right;\n",
              "    }\n",
              "</style>\n",
              "<table border=\"1\" class=\"dataframe\">\n",
              "  <thead>\n",
              "    <tr style=\"text-align: right;\">\n",
              "      <th></th>\n",
              "      <th>MPG</th>\n",
              "      <th>Cilinders</th>\n",
              "      <th>Displacement</th>\n",
              "      <th>Horse power</th>\n",
              "      <th>Weight</th>\n",
              "      <th>Acceleration</th>\n",
              "      <th>Model year</th>\n",
              "      <th>USA</th>\n",
              "      <th>Europe</th>\n",
              "      <th>Japan</th>\n",
              "    </tr>\n",
              "  </thead>\n",
              "  <tbody>\n",
              "    <tr>\n",
              "      <th>393</th>\n",
              "      <td>27.0</td>\n",
              "      <td>4</td>\n",
              "      <td>140.0</td>\n",
              "      <td>86.0</td>\n",
              "      <td>2790.0</td>\n",
              "      <td>15.6</td>\n",
              "      <td>82</td>\n",
              "      <td>1.0</td>\n",
              "      <td>0.0</td>\n",
              "      <td>0.0</td>\n",
              "    </tr>\n",
              "    <tr>\n",
              "      <th>394</th>\n",
              "      <td>44.0</td>\n",
              "      <td>4</td>\n",
              "      <td>97.0</td>\n",
              "      <td>52.0</td>\n",
              "      <td>2130.0</td>\n",
              "      <td>24.6</td>\n",
              "      <td>82</td>\n",
              "      <td>0.0</td>\n",
              "      <td>1.0</td>\n",
              "      <td>0.0</td>\n",
              "    </tr>\n",
              "    <tr>\n",
              "      <th>395</th>\n",
              "      <td>32.0</td>\n",
              "      <td>4</td>\n",
              "      <td>135.0</td>\n",
              "      <td>84.0</td>\n",
              "      <td>2295.0</td>\n",
              "      <td>11.6</td>\n",
              "      <td>82</td>\n",
              "      <td>1.0</td>\n",
              "      <td>0.0</td>\n",
              "      <td>0.0</td>\n",
              "    </tr>\n",
              "    <tr>\n",
              "      <th>396</th>\n",
              "      <td>28.0</td>\n",
              "      <td>4</td>\n",
              "      <td>120.0</td>\n",
              "      <td>79.0</td>\n",
              "      <td>2625.0</td>\n",
              "      <td>18.6</td>\n",
              "      <td>82</td>\n",
              "      <td>1.0</td>\n",
              "      <td>0.0</td>\n",
              "      <td>0.0</td>\n",
              "    </tr>\n",
              "    <tr>\n",
              "      <th>397</th>\n",
              "      <td>31.0</td>\n",
              "      <td>4</td>\n",
              "      <td>119.0</td>\n",
              "      <td>82.0</td>\n",
              "      <td>2720.0</td>\n",
              "      <td>19.4</td>\n",
              "      <td>82</td>\n",
              "      <td>1.0</td>\n",
              "      <td>0.0</td>\n",
              "      <td>0.0</td>\n",
              "    </tr>\n",
              "  </tbody>\n",
              "</table>\n",
              "</div>"
            ],
            "text/plain": [
              "      MPG  Cilinders  Displacement  Horse power  ...  Model year  USA  Europe  Japan\n",
              "393  27.0          4         140.0         86.0  ...          82  1.0     0.0    0.0\n",
              "394  44.0          4          97.0         52.0  ...          82  0.0     1.0    0.0\n",
              "395  32.0          4         135.0         84.0  ...          82  1.0     0.0    0.0\n",
              "396  28.0          4         120.0         79.0  ...          82  1.0     0.0    0.0\n",
              "397  31.0          4         119.0         82.0  ...          82  1.0     0.0    0.0\n",
              "\n",
              "[5 rows x 10 columns]"
            ]
          },
          "metadata": {
            "tags": []
          },
          "execution_count": 27
        }
      ]
    },
    {
      "cell_type": "markdown",
      "metadata": {
        "id": "9alqDNHAKsj9",
        "colab_type": "text"
      },
      "source": [
        "Now, we will split our data in two sets. In one of them, we will find a pattern among the data. on the other, we will see if that pattern is consistent. We do it this way, so our model can find a pattern not only in the data we have but in data it have never seen as well."
      ]
    },
    {
      "cell_type": "code",
      "metadata": {
        "id": "2pePILyKLtRV",
        "colab_type": "code",
        "colab": {}
      },
      "source": [
        "train_dataset = dataset.sample(frac=0.8, random_state=0)\n",
        "test_dataset = dataset.drop(train_dataset.index)"
      ],
      "execution_count": 0,
      "outputs": []
    },
    {
      "cell_type": "markdown",
      "metadata": {
        "id": "l8E2AcssNfi8",
        "colab_type": "text"
      },
      "source": [
        "Inspecting the relations among these data:"
      ]
    },
    {
      "cell_type": "code",
      "metadata": {
        "id": "Gqw5pCLJNlve",
        "colab_type": "code",
        "outputId": "027683f5-e6d6-434b-d01e-7b0088bd5ac8",
        "colab": {
          "base_uri": "https://localhost:8080/",
          "height": 746
        }
      },
      "source": [
        "sns.pairplot(train_dataset[[\"MPG\", \"Cilinders\",\"Displacement\",\"Weight\"]], diag_kind=\"kde\")"
      ],
      "execution_count": 0,
      "outputs": [
        {
          "output_type": "execute_result",
          "data": {
            "text/plain": [
              "<seaborn.axisgrid.PairGrid at 0x7f00c16c7f60>"
            ]
          },
          "metadata": {
            "tags": []
          },
          "execution_count": 30
        },
        {
          "output_type": "display_data",
          "data": {
            "image/png": "[encoded data removed]",
            "text/plain": [
              "<Figure size 720x720 with 20 Axes>"
            ]
          },
          "metadata": {
            "tags": []
          }
        }
      ]
    },
    {
      "cell_type": "markdown",
      "metadata": {
        "id": "ZEiABmiGPvQO",
        "colab_type": "text"
      },
      "source": [
        "An overall statistics:"
      ]
    },
    {
      "cell_type": "code",
      "metadata": {
        "id": "zCu_NX84P44R",
        "colab_type": "code",
        "outputId": "1904c06b-1a9d-4694-f2f6-82fbdb0c4ac2",
        "colab": {
          "base_uri": "https://localhost:8080/",
          "height": 328
        }
      },
      "source": [
        "train_stats = train_dataset.describe()\n",
        "train_stats.pop(\"MPG\")\n",
        "train_stats = train_stats.transpose()\n",
        "train_stats"
      ],
      "execution_count": 0,
      "outputs": [
        {
          "output_type": "execute_result",
          "data": {
            "text/html": [
              "<div>\n",
              "<style scoped>\n",
              "    .dataframe tbody tr th:only-of-type {\n",
              "        vertical-align: middle;\n",
              "    }\n",
              "\n",
              "    .dataframe tbody tr th {\n",
              "        vertical-align: top;\n",
              "    }\n",
              "\n",
              "    .dataframe thead th {\n",
              "        text-align: right;\n",
              "    }\n",
              "</style>\n",
              "<table border=\"1\" class=\"dataframe\">\n",
              "  <thead>\n",
              "    <tr style=\"text-align: right;\">\n",
              "      <th></th>\n",
              "      <th>count</th>\n",
              "      <th>mean</th>\n",
              "      <th>std</th>\n",
              "      <th>min</th>\n",
              "      <th>25%</th>\n",
              "      <th>50%</th>\n",
              "      <th>75%</th>\n",
              "      <th>max</th>\n",
              "    </tr>\n",
              "  </thead>\n",
              "  <tbody>\n",
              "    <tr>\n",
              "      <th>Cilinders</th>\n",
              "      <td>314.0</td>\n",
              "      <td>5.477707</td>\n",
              "      <td>1.699788</td>\n",
              "      <td>3.0</td>\n",
              "      <td>4.00</td>\n",
              "      <td>4.0</td>\n",
              "      <td>8.00</td>\n",
              "      <td>8.0</td>\n",
              "    </tr>\n",
              "    <tr>\n",
              "      <th>Displacement</th>\n",
              "      <td>314.0</td>\n",
              "      <td>195.318471</td>\n",
              "      <td>104.331589</td>\n",
              "      <td>68.0</td>\n",
              "      <td>105.50</td>\n",
              "      <td>151.0</td>\n",
              "      <td>265.75</td>\n",
              "      <td>455.0</td>\n",
              "    </tr>\n",
              "    <tr>\n",
              "      <th>Horse power</th>\n",
              "      <td>314.0</td>\n",
              "      <td>104.869427</td>\n",
              "      <td>38.096214</td>\n",
              "      <td>46.0</td>\n",
              "      <td>76.25</td>\n",
              "      <td>94.5</td>\n",
              "      <td>128.00</td>\n",
              "      <td>225.0</td>\n",
              "    </tr>\n",
              "    <tr>\n",
              "      <th>Weight</th>\n",
              "      <td>314.0</td>\n",
              "      <td>2990.251592</td>\n",
              "      <td>843.898596</td>\n",
              "      <td>1649.0</td>\n",
              "      <td>2256.50</td>\n",
              "      <td>2822.5</td>\n",
              "      <td>3608.00</td>\n",
              "      <td>5140.0</td>\n",
              "    </tr>\n",
              "    <tr>\n",
              "      <th>Acceleration</th>\n",
              "      <td>314.0</td>\n",
              "      <td>15.559236</td>\n",
              "      <td>2.789230</td>\n",
              "      <td>8.0</td>\n",
              "      <td>13.80</td>\n",
              "      <td>15.5</td>\n",
              "      <td>17.20</td>\n",
              "      <td>24.8</td>\n",
              "    </tr>\n",
              "    <tr>\n",
              "      <th>Model year</th>\n",
              "      <td>314.0</td>\n",
              "      <td>75.898089</td>\n",
              "      <td>3.675642</td>\n",
              "      <td>70.0</td>\n",
              "      <td>73.00</td>\n",
              "      <td>76.0</td>\n",
              "      <td>79.00</td>\n",
              "      <td>82.0</td>\n",
              "    </tr>\n",
              "    <tr>\n",
              "      <th>USA</th>\n",
              "      <td>314.0</td>\n",
              "      <td>0.624204</td>\n",
              "      <td>0.485101</td>\n",
              "      <td>0.0</td>\n",
              "      <td>0.00</td>\n",
              "      <td>1.0</td>\n",
              "      <td>1.00</td>\n",
              "      <td>1.0</td>\n",
              "    </tr>\n",
              "    <tr>\n",
              "      <th>Europe</th>\n",
              "      <td>314.0</td>\n",
              "      <td>0.178344</td>\n",
              "      <td>0.383413</td>\n",
              "      <td>0.0</td>\n",
              "      <td>0.00</td>\n",
              "      <td>0.0</td>\n",
              "      <td>0.00</td>\n",
              "      <td>1.0</td>\n",
              "    </tr>\n",
              "    <tr>\n",
              "      <th>Japan</th>\n",
              "      <td>314.0</td>\n",
              "      <td>0.197452</td>\n",
              "      <td>0.398712</td>\n",
              "      <td>0.0</td>\n",
              "      <td>0.00</td>\n",
              "      <td>0.0</td>\n",
              "      <td>0.00</td>\n",
              "      <td>1.0</td>\n",
              "    </tr>\n",
              "  </tbody>\n",
              "</table>\n",
              "</div>"
            ],
            "text/plain": [
              "              count         mean         std  ...     50%      75%     max\n",
              "Cilinders     314.0     5.477707    1.699788  ...     4.0     8.00     8.0\n",
              "Displacement  314.0   195.318471  104.331589  ...   151.0   265.75   455.0\n",
              "Horse power   314.0   104.869427   38.096214  ...    94.5   128.00   225.0\n",
              "Weight        314.0  2990.251592  843.898596  ...  2822.5  3608.00  5140.0\n",
              "Acceleration  314.0    15.559236    2.789230  ...    15.5    17.20    24.8\n",
              "Model year    314.0    75.898089    3.675642  ...    76.0    79.00    82.0\n",
              "USA           314.0     0.624204    0.485101  ...     1.0     1.00     1.0\n",
              "Europe        314.0     0.178344    0.383413  ...     0.0     0.00     1.0\n",
              "Japan         314.0     0.197452    0.398712  ...     0.0     0.00     1.0\n",
              "\n",
              "[9 rows x 8 columns]"
            ]
          },
          "metadata": {
            "tags": []
          },
          "execution_count": 31
        }
      ]
    },
    {
      "cell_type": "markdown",
      "metadata": {
        "id": "n5bzgGJlQtYC",
        "colab_type": "text"
      },
      "source": [
        "Now, we will remove MPG from the table in order to find a pattern that describes MPG based on the other values."
      ]
    },
    {
      "cell_type": "code",
      "metadata": {
        "id": "9M3M-eazQ1K6",
        "colab_type": "code",
        "colab": {}
      },
      "source": [
        "train_labels = train_dataset.pop('MPG')\n",
        "test_labels = test_dataset.pop('MPG')"
      ],
      "execution_count": 0,
      "outputs": []
    },
    {
      "cell_type": "markdown",
      "metadata": {
        "id": "CcoubAbcVB5o",
        "colab_type": "text"
      },
      "source": [
        "The data has wide range and different values, so we will normalize it. By doing so we will make alll values fall between 0 and 1, what at the same time makes training easier and our model will not depend on the units used in the input.\n",
        "Not only the training set must be normalized. The test set must be normalized to fit the model distribution.\n"
      ]
    },
    {
      "cell_type": "code",
      "metadata": {
        "id": "eiWxW5_eXinz",
        "colab_type": "code",
        "colab": {}
      },
      "source": [
        "def norm(x):\n",
        "  return (x-train_stats['mean'])/train_stats['std']\n",
        "normed_train_data = norm(train_dataset)\n",
        "normed_test_data = norm(test_dataset)"
      ],
      "execution_count": 0,
      "outputs": []
    },
    {
      "cell_type": "markdown",
      "metadata": {
        "id": "4lUw3FzEZK6F",
        "colab_type": "text"
      },
      "source": [
        "Important: All data fed to the model must be normalized. Not only the training set, but the test set and data when the model is used on production."
      ]
    },
    {
      "cell_type": "markdown",
      "metadata": {
        "id": "TeWNpmBxZtGP",
        "colab_type": "text"
      },
      "source": [
        "#Building the model\n",
        "\n",
        "Now we will run the functions that will build our model\n",
        "\n",
        "Our model will be a ```sequential``` model with two densely conected layers, and an output layer that returns a single, coninuous value.\n",
        "the model buildimg steps are wrapped in a function, build model, since we will create a second model, later on.\n",
        "\n"
      ]
    },
    {
      "cell_type": "code",
      "metadata": {
        "id": "KalOa8v8fI9b",
        "colab_type": "code",
        "colab": {}
      },
      "source": [
        "def build_model():\n",
        "  model = keras.Sequential([\n",
        "      layers.Dense(64, activation=tf.nn.relu, input_shape=[len(train_dataset.keys())]),\n",
        "      layers.Dense(64, activation=tf.nn.relu),\n",
        "      layers.Dense(1)\n",
        "  ])\n",
        "  optimizer = tf.keras.optimizers.RMSprop(0.001)\n",
        "  model.compile(loss = 'mse',\n",
        "             optimizer = optimizer,\n",
        "             metrics = ['mae','mse'])\n",
        "  return model\n",
        "model = build_model()"
      ],
      "execution_count": 0,
      "outputs": []
    },
    {
      "cell_type": "markdown",
      "metadata": {
        "id": "GrjnGseaj3Jd",
        "colab_type": "text"
      },
      "source": [
        "#Analyzing the bases of the model\n",
        "Verification of consistency and debugging."
      ]
    },
    {
      "cell_type": "markdown",
      "metadata": {
        "id": "3yPRZvgkj_j7",
        "colab_type": "text"
      },
      "source": [
        "We will see a brief description of the model:"
      ]
    },
    {
      "cell_type": "code",
      "metadata": {
        "id": "l8XA-MN3kG3S",
        "colab_type": "code",
        "outputId": "0c00d6ee-9a78-4049-c4a6-b7a21513aac8",
        "colab": {
          "base_uri": "https://localhost:8080/",
          "height": 255
        }
      },
      "source": [
        "model.summary()"
      ],
      "execution_count": 0,
      "outputs": [
        {
          "output_type": "stream",
          "text": [
            "Model: \"sequential_1\"\n",
            "_________________________________________________________________\n",
            "Layer (type)                 Output Shape              Param #   \n",
            "=================================================================\n",
            "dense_3 (Dense)              (None, 64)                640       \n",
            "_________________________________________________________________\n",
            "dense_4 (Dense)              (None, 64)                4160      \n",
            "_________________________________________________________________\n",
            "dense_5 (Dense)              (None, 1)                 65        \n",
            "=================================================================\n",
            "Total params: 4,865\n",
            "Trainable params: 4,865\n",
            "Non-trainable params: 0\n",
            "_________________________________________________________________\n"
          ],
          "name": "stdout"
        }
      ]
    },
    {
      "cell_type": "markdown",
      "metadata": {
        "id": "M6Np0V7qkYyB",
        "colab_type": "text"
      },
      "source": [
        "Now, testing before training, to look for bugs:"
      ]
    },
    {
      "cell_type": "code",
      "metadata": {
        "id": "lemUMIn-kcCF",
        "colab_type": "code",
        "outputId": "e79faaae-3e25-4da5-e4e7-fe74c193c59f",
        "colab": {
          "base_uri": "https://localhost:8080/",
          "height": 187
        }
      },
      "source": [
        "example_batch = normed_train_data[:10]\n",
        "example_result = model.predict(example_batch)\n",
        "example_result"
      ],
      "execution_count": 0,
      "outputs": [
        {
          "output_type": "execute_result",
          "data": {
            "text/plain": [
              "array([[-0.03220667],\n",
              "       [-0.27755862],\n",
              "       [ 0.00742884],\n",
              "       [-0.11110833],\n",
              "       [ 0.03378586],\n",
              "       [-0.10799855],\n",
              "       [-0.0130512 ],\n",
              "       [-0.01513378],\n",
              "       [-0.03211011],\n",
              "       [ 0.36927378]], dtype=float32)"
            ]
          },
          "metadata": {
            "tags": []
          },
          "execution_count": 46
        }
      ]
    },
    {
      "cell_type": "markdown",
      "metadata": {
        "id": "oLBtqoTan78f",
        "colab_type": "text"
      },
      "source": [
        "#Training the model\n",
        "Now we will train the model for 1000 epochs, or turns aroud our dataset. And we will be recording the training and validation accuracy in the ```history``` object.\n",
        "\n"
      ]
    },
    {
      "cell_type": "code",
      "metadata": {
        "id": "QS3CKWZ7ohPe",
        "colab_type": "code",
        "outputId": "76465370-7ca2-49f3-af26-33348817b3d9",
        "colab": {
          "base_uri": "https://localhost:8080/",
          "height": 204
        }
      },
      "source": [
        "class PrintDot(keras.callbacks.Callback):\n",
        "  def on_epoch_end(self, epoch, logs):\n",
        "    if epoch % 100 == 0: print('')\n",
        "    print('.', end='')\n",
        "EPOCHS = 1000\n",
        "history = model.fit(\n",
        "normed_train_data,\n",
        "train_labels,\n",
        "epochs = EPOCHS,\n",
        "validation_split = 0.2,\n",
        "verbose=0,\n",
        "callbacks=[PrintDot()])"
      ],
      "execution_count": 0,
      "outputs": [
        {
          "output_type": "stream",
          "text": [
            "\n",
            "....................................................................................................\n",
            "....................................................................................................\n",
            "....................................................................................................\n",
            "....................................................................................................\n",
            "....................................................................................................\n",
            "....................................................................................................\n",
            "....................................................................................................\n",
            "....................................................................................................\n",
            "....................................................................................................\n",
            "...................................................................................................."
          ],
          "name": "stdout"
        }
      ]
    },
    {
      "cell_type": "code",
      "metadata": {
        "id": "p96K_uBMpnXp",
        "colab_type": "code",
        "outputId": "589848fc-1357-4163-fb9b-8a50bb33b837",
        "colab": {
          "base_uri": "https://localhost:8080/",
          "height": 1105
        }
      },
      "source": [
        "hist = pd.DataFrame(history.history)\n",
        "hist['epoch'] = history.epoch\n",
        "hist.tail"
      ],
      "execution_count": 0,
      "outputs": [
        {
          "output_type": "execute_result",
          "data": {
            "text/plain": [
              "<bound method NDFrame.tail of            loss  mean_absolute_error  ...  val_mean_squared_error  epoch\n",
              "0    564.526184            22.495588  ...              551.719604      0\n",
              "1    508.852466            21.231333  ...              495.538300      1\n",
              "2    456.607713            19.995363  ...              437.526337      2\n",
              "3    401.552558            18.612919  ...              374.675568      3\n",
              "4    343.301161            17.060684  ...              311.683411      4\n",
              "5    284.701696            15.342610  ...              249.020142      5\n",
              "6    228.369810            13.510028  ...              192.510162      6\n",
              "7    176.740600            11.696427  ...              141.918747      7\n",
              "8    131.711697             9.825296  ...              101.143013      8\n",
              "9     95.487355             8.059020  ...               71.764336      9\n",
              "10    69.019632             6.573636  ...               53.281910     10\n",
              "11    51.093850             5.555251  ...               42.198498     11\n",
              "12    38.813514             4.844244  ...               35.204063     12\n",
              "13    29.957913             4.251085  ...               29.788048     13\n",
              "14    23.656822             3.796394  ...               25.268976     14\n",
              "15    19.353376             3.417945  ...               22.295515     15\n",
              "16    16.644195             3.171492  ...               19.738977     16\n",
              "17    14.576789             2.967305  ...               18.493202     17\n",
              "18    13.529300             2.827217  ...               16.207663     18\n",
              "19    12.584118             2.712018  ...               14.576241     19\n",
              "20    11.675234             2.584150  ...               13.289880     20\n",
              "21    10.834669             2.467119  ...               12.237625     21\n",
              "22    10.324412             2.400765  ...               11.541849     22\n",
              "23     9.868517             2.322550  ...               10.802102     23\n",
              "24     9.430585             2.240511  ...               10.258088     24\n",
              "25     9.039792             2.166112  ...               10.196047     25\n",
              "26     9.018056             2.172056  ...                9.471251     26\n",
              "27     8.717456             2.102751  ...                9.323731     27\n",
              "28     8.495105             2.100639  ...                9.118267     28\n",
              "29     8.216788             2.016110  ...                9.440173     29\n",
              "..          ...                  ...  ...                     ...    ...\n",
              "970    2.255968             0.914474  ...                9.154944    970\n",
              "971    2.163182             0.915356  ...                9.495612    971\n",
              "972    2.181822             0.887002  ...                9.045934    972\n",
              "973    2.305047             0.935468  ...                9.664117    973\n",
              "974    2.251232             0.915176  ...                8.913559    974\n",
              "975    2.353982             0.959905  ...                9.547701    975\n",
              "976    2.218905             0.890916  ...                9.054140    976\n",
              "977    2.266536             0.946608  ...                9.058617    977\n",
              "978    2.129160             0.921297  ...                9.215235    978\n",
              "979    2.256955             0.909201  ...                9.125920    979\n",
              "980    2.345551             0.942110  ...                9.083675    980\n",
              "981    2.256455             0.956151  ...                8.971354    981\n",
              "982    2.100851             0.863928  ...                9.172367    982\n",
              "983    2.306524             0.954157  ...                9.098152    983\n",
              "984    2.200370             0.940217  ...               10.448400    984\n",
              "985    2.270579             0.944889  ...                9.282425    985\n",
              "986    2.244704             0.944535  ...                9.509807    986\n",
              "987    2.142088             0.882276  ...                9.436486    987\n",
              "988    2.186074             0.899711  ...                9.370340    988\n",
              "989    2.404864             0.958318  ...                9.176236    989\n",
              "990    2.135302             0.888500  ...                9.218143    990\n",
              "991    2.221743             0.892883  ...                9.052861    991\n",
              "992    2.190465             0.907874  ...                8.978774    992\n",
              "993    2.615491             0.993501  ...                9.008685    993\n",
              "994    2.165731             0.900792  ...                9.147423    994\n",
              "995    2.117344             0.857736  ...                9.299762    995\n",
              "996    2.295068             0.922669  ...                9.457565    996\n",
              "997    2.344701             0.903455  ...                9.178137    997\n",
              "998    2.083286             0.882871  ...                9.022288    998\n",
              "999    2.254236             0.939195  ...                9.029781    999\n",
              "\n",
              "[1000 rows x 7 columns]>"
            ]
          },
          "metadata": {
            "tags": []
          },
          "execution_count": 54
        }
      ]
    },
    {
      "cell_type": "code",
      "metadata": {
        "id": "ybJ8JRSQtsYC",
        "colab_type": "code",
        "outputId": "13ef7f5c-81e2-4eb8-b55c-7f8f9df29f61",
        "colab": {
          "base_uri": "https://localhost:8080/",
          "height": 549
        }
      },
      "source": [
        "import matplotlib.pyplot as plt\n",
        "\n",
        "def plot_history(history):\n",
        "  hist = pd.DataFrame(history.history)\n",
        "  hist['epoch'] = history.epoch\n",
        "  plt.figure()\n",
        "  plt.xlabel(\"Epoch\")\n",
        "  plt.ylabel('Mean Absolute Error[MPG]')\n",
        "  plt.plot(hist['epoch'], hist['mean_absolute_error'], label='Train Error')\n",
        "  plt.plot(hist['epoch'], hist['val_mean_absolute_error'], label='Val Error')\n",
        "  plt.legend()\n",
        "  plt.ylim([0, 5])\n",
        "  plt.figure()\n",
        "  plt.xlabel(\"Epoch\")\n",
        "  plt.ylabel('Mean Square Error[MPG]')\n",
        "  plt.plot(hist['epoch'], hist['mean_squared_error'], label ='Train Error')\n",
        "  plt.plot(hist['epoch'], hist['val_mean_squared_error'], label = 'Val Error')\n",
        "  plt.legend()\n",
        "  plt.ylim([0, 20])\n",
        "plot_history(history)"
      ],
      "execution_count": 0,
      "outputs": [
        {
          "output_type": "display_data",
          "data": {
            "image/png": "[encoded data removed]",
            "text/plain": [
              "<Figure size 432x288 with 1 Axes>"
            ]
          },
          "metadata": {
            "tags": []
          }
        },
        {
          "output_type": "display_data",
          "data": {
            "image/png": "[encoded data removed]",
            "text/plain": [
              "<Figure size 432x288 with 1 Axes>"
            ]
          },
          "metadata": {
            "tags": []
          }
        }
      ]
    },
    {
      "cell_type": "markdown",
      "metadata": {
        "id": "KK6wlt2jzsIF",
        "colab_type": "text"
      },
      "source": [
        "These are learning curves for each of our metrics. The validation error stopped decreasing very soon, what indicates a over-fitting problem. We will use a method called *EarlyStopping callback*, that tests a training condition for everyepoch. if a set amount of epochs elapses without showing improvement, then automaticaly we stop the training."
      ]
    },
    {
      "cell_type": "code",
      "metadata": {
        "id": "BgYTUUIb3EKL",
        "colab_type": "code",
        "outputId": "3a7ec323-675d-4f8a-c0f2-46d85cd9107a",
        "colab": {
          "base_uri": "https://localhost:8080/",
          "height": 583
        }
      },
      "source": [
        "model =build_model()\n",
        "  #patience is the parameter that says the number of epochs to check for improvement\n",
        "early_stop=keras.callbacks.EarlyStopping(monitor='val_loss', patience=10)\n",
        "history = model.fit(normed_train_data,\n",
        "                     train_labels,\n",
        "                     epochs=EPOCHS,\n",
        "                     validation_split=0.2,\n",
        "                     verbose=0,\n",
        "                     callbacks=[early_stop, PrintDot()])\n",
        "plot_history(history)"
      ],
      "execution_count": 0,
      "outputs": [
        {
          "output_type": "stream",
          "text": [
            "\n",
            "..........................................."
          ],
          "name": "stdout"
        },
        {
          "output_type": "display_data",
          "data": {
            "image/png": "[encoded data removed]",
            "text/plain": [
              "<Figure size 432x288 with 1 Axes>"
            ]
          },
          "metadata": {
            "tags": []
          }
        },
        {
          "output_type": "display_data",
          "data": {
            "image/png": "[encoded data removed]",
            "text/plain": [
              "<Figure size 432x288 with 1 Axes>"
            ]
          },
          "metadata": {
            "tags": []
          }
        }
      ]
    },
    {
      "cell_type": "markdown",
      "metadata": {
        "id": "lwE0hzK74SDi",
        "colab_type": "text"
      },
      "source": [
        "Our model has a precision of 2 miles per gallon, and now we will look at our absolute mean error:"
      ]
    },
    {
      "cell_type": "code",
      "metadata": {
        "id": "UbI_vWHH4dUW",
        "colab_type": "code",
        "outputId": "a2ddfbb4-26be-4328-a7c1-edaf513ee11e",
        "colab": {
          "base_uri": "https://localhost:8080/",
          "height": 34
        }
      },
      "source": [
        "loss, mae, mse = model.evaluate(normed_test_data, test_labels, verbose=0)\n",
        "print(\"Testing set Mean Abs Error: {:5.2f} MPG\".format(mae))"
      ],
      "execution_count": 0,
      "outputs": [
        {
          "output_type": "stream",
          "text": [
            "Testing set Mean Abs Error:  1.81 MPG\n"
          ],
          "name": "stdout"
        }
      ]
    },
    {
      "cell_type": "markdown",
      "metadata": {
        "id": "zGEaBdgE6XiK",
        "colab_type": "text"
      },
      "source": [
        "#Testing our model\n",
        "Now we will compare our model to the real values so we can see how good is our model in real data."
      ]
    },
    {
      "cell_type": "code",
      "metadata": {
        "id": "QugDFPy27yMc",
        "colab_type": "code",
        "outputId": "0f1b890c-43c6-4296-8cc2-9a84297bcc72",
        "colab": {
          "base_uri": "https://localhost:8080/",
          "height": 283
        }
      },
      "source": [
        "test_predictions = model.predict(normed_test_data).flatten()\n",
        "\n",
        "plt.scatter(test_labels, test_predictions)\n",
        "plt.xlabel('True values [MPG]')\n",
        "plt.ylabel('Predictions [MPG]')\n",
        "plt.axis('equal')\n",
        "plt.axis('square')\n",
        "plt.xlim([0, plt.xlim()[1]])\n",
        "plt.ylim([0, plt.ylim()[1]])\n",
        "_ = plt.plot([-100, 100], [-100, 100])"
      ],
      "execution_count": 0,
      "outputs": [
        {
          "output_type": "display_data",
          "data": {
            "image/png": "[encoded data removed]",
            "text/plain": [
              "<Figure size 432x288 with 1 Axes>"
            ]
          },
          "metadata": {
            "tags": []
          }
        }
      ]
    },
    {
      "cell_type": "markdown",
      "metadata": {
        "id": "B-G6OLA180di",
        "colab_type": "text"
      },
      "source": [
        "Now, let's see what our error looks like using an histogram:"
      ]
    },
    {
      "cell_type": "code",
      "metadata": {
        "id": "foc0cYEy859t",
        "colab_type": "code",
        "outputId": "5529647c-32f4-472d-ef08-c5bf3c482369",
        "colab": {
          "base_uri": "https://localhost:8080/",
          "height": 283
        }
      },
      "source": [
        "error = test_predictions-test_labels\n",
        "plt.hist(error, bins=25)\n",
        "plt.xlabel(\"Precision error [MPG]\")\n",
        "_ = plt.ylabel(\"Count\")"
      ],
      "execution_count": 0,
      "outputs": [
        {
          "output_type": "display_data",
          "data": {
            "image/png": "[encoded data removed]",
            "text/plain": [
              "<Figure size 432x288 with 1 Axes>"
            ]
          },
          "metadata": {
            "tags": []
          }
        }
      ]
    },
    {
      "cell_type": "markdown",
      "metadata": {
        "id": "O0pUKrMM-7SZ",
        "colab_type": "text"
      },
      "source": [
        "#Conclusion\n",
        "\n",
        "Error took the shape of the classical bell curve, with a bigger set, we can see that it would fit the normal distribution, as we waited.\n",
        "So, our model predicts MPG on a good precision, if you think we watched only its weight and cilinders."
      ]
    },
    {
      "cell_type": "code",
      "metadata": {
        "id": "zlKryzDt9kJ7",
        "colab_type": "code",
        "colab": {}
      },
      "source": [
        ""
      ],
      "execution_count": 0,
      "outputs": []
    }
  ]
}